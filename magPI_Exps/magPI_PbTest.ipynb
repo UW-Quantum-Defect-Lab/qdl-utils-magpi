{
 "cells": [
  {
   "cell_type": "code",
   "execution_count": 1,
   "metadata": {},
   "outputs": [
    {
     "name": "stdout",
     "output_type": "stream",
     "text": [
      "Cycle period: 1.0 s\n",
      "On time: 0.25 s\n",
      "Off time: 0.75 s\n",
      "Duty cycle: 0.25\n"
     ]
    }
   ],
   "source": [
    "\n",
    "from qdlutils.hardware.pulsers.pulseblaster import PulseBlasterBlinkTest\n",
    "\n",
    "pbblink = PulseBlasterBlinkTest(\n",
    "    blink_channels = [0],\n",
    "    cycle_period_s = 1.0,\n",
    "    duty_cycle = 0.25,\n",
    "    num_loops = 5)\n",
    "pbblink.run()"
   ]
  },
  {
   "cell_type": "code",
   "execution_count": 4,
   "metadata": {},
   "outputs": [
    {
     "name": "stdout",
     "output_type": "stream",
     "text": [
      "pbblink.on_time_ns = 250000000\n",
      "pbblink.off_time_ns = 750000000\n"
     ]
    }
   ],
   "source": [
    "print(f'pbblink.on_time_ns = {pbblink.on_time_ns}')\n",
    "print(f'pbblink.off_time_ns = {pbblink.off_time_ns}')"
   ]
  },
  {
   "cell_type": "code",
   "execution_count": 1,
   "metadata": {},
   "outputs": [],
   "source": [
    "import numpy as np\n",
    "import matplotlib.pyplot as plt\n",
    "import time\n",
    "\n",
    "import logging"
   ]
  },
  {
   "cell_type": "code",
   "execution_count": 2,
   "metadata": {},
   "outputs": [],
   "source": [
    "import qdlutils.experiments.podmr\n",
    "from qdlutils.hardware.pulsers.pulseblaster import PulseBlasterPulsedODMR\n",
    "from qdlutils.experiments.rabi import signal_to_background\n",
    "# import qdlutils.analysis.aggregation  # DOES NOT EXIST....?\n",
    "import qdlutils.hardware.nidaq\n",
    "import qt3rfsynthcontrol"
   ]
  },
  {
   "cell_type": "code",
   "execution_count": 1,
   "metadata": {},
   "outputs": [],
   "source": [
    "from qdlutils.hardware.pulsers.pulseblaster import PulseBlasterHoldAOM\n",
    "hold_aom_pulser = PulseBlasterHoldAOM(\n",
    "    pb_board_number = 1,\n",
    "    aom_channel = 0,\n",
    "    cycle_width = 10e-3\n",
    "    )\n",
    "hold_aom_pulser.program_pulser_state()\n",
    "hold_aom_pulser.start()\n"
   ]
  },
  {
   "cell_type": "code",
   "execution_count": 3,
   "metadata": {},
   "outputs": [],
   "source": [
    "# import sys\n",
    "# # sys.path.append(\".\")\n",
    "# print(sys.path)\n",
    "# import os\n",
    "# print(os.getcwd())\n",
    "# import magPI.magPI_Python.Settings.magPI_config as magPI_config"
   ]
  },
  {
   "cell_type": "code",
   "execution_count": 4,
   "metadata": {},
   "outputs": [],
   "source": [
    "logging.basicConfig(level=logging.WARNING)"
   ]
  },
  {
   "cell_type": "code",
   "execution_count": 5,
   "metadata": {},
   "outputs": [],
   "source": [
    "qdlutils.experiments.podmr.logger.setLevel(logging.INFO)"
   ]
  },
  {
   "cell_type": "code",
   "execution_count": 6,
   "metadata": {},
   "outputs": [],
   "source": [
    "rfsynth = qt3rfsynthcontrol.QT3SynthHD('COM7')"
   ]
  },
  {
   "cell_type": "code",
   "execution_count": 7,
   "metadata": {},
   "outputs": [],
   "source": [
    "nidaq_config = qdlutils.hardware.nidaq.EdgeCounter('Dev1')"
   ]
  },
  {
   "cell_type": "code",
   "execution_count": 8,
   "metadata": {},
   "outputs": [],
   "source": [
    "podmr_pulser = PulseBlasterPulsedODMR(\n",
    "    pb_board_number = 1, \n",
    "    aom_channel = 0,\n",
    "    rf_channel = 1,\n",
    "    clock_channel = 5,\n",
    "    trigger_channel = 2)\n",
    "\n",
    "    # clock_period = 200e-9,\n",
    "    # trigger_width = 500e-9,\n",
    "    # rf_pulse_duration = 2e-6,\n",
    "    # aom_width=5e-6,\n",
    "    # aom_response_time = 800e-9,\n",
    "    # rf_response_time = 200e-9,\n",
    "    # pre_rf_pad = 100e-9,\n",
    "    # post_rf_pad = 100e-9,\n",
    "    # full_cycle_width = 30e-6,\n",
    "\n",
    "    # rf_pulse_justify = 'center')"
   ]
  },
  {
   "cell_type": "code",
   "execution_count": 14,
   "metadata": {},
   "outputs": [
    {
     "name": "stdout",
     "output_type": "stream",
     "text": [
      "0b100100011\n",
      "291\n",
      "0x123\n"
     ]
    }
   ],
   "source": [
    "active_pins = [0, 1, 5, 8]\n",
    "on_word = 0x0\n",
    "for pin in active_pins:\n",
    "    on_word |= 1 << pin\n",
    "\n",
    "print(bin(on_word))\n",
    "print(on_word)\n",
    "print(hex(on_word))\n",
    "# print(0x10E)\n",
    "# print(bin(0x10E))\n",
    "# print(int('0b100001110', 2))\n",
    "# print(int('0x10E', 16))"
   ]
  },
  {
   "cell_type": "code",
   "execution_count": null,
   "metadata": {},
   "outputs": [],
   "source": [
    "pb_blink = "
   ]
  },
  {
   "cell_type": "code",
   "execution_count": 11,
   "metadata": {},
   "outputs": [
    {
     "name": "stdout",
     "output_type": "stream",
     "text": [
      "['0000', '0000', '0000']\n"
     ]
    }
   ],
   "source": [
    "print(['0'*4]*3)"
   ]
  },
  {
   "cell_type": "code",
   "execution_count": 10,
   "metadata": {},
   "outputs": [
    {
     "name": "stdout",
     "output_type": "stream",
     "text": [
      "215198400\n",
      "215198400\n",
      "0\n"
     ]
    },
    {
     "ename": "NameError",
     "evalue": "name 'MyError' is not defined",
     "output_type": "error",
     "traceback": [
      "\u001b[1;31m---------------------------------------------------------------------------\u001b[0m",
      "\u001b[1;31mNameError\u001b[0m                                 Traceback (most recent call last)",
      "Cell \u001b[1;32mIn[10], line 12\u001b[0m\n\u001b[0;32m     10\u001b[0m \u001b[38;5;28mprint\u001b[39m(a\u001b[38;5;241m-\u001b[39mb)\n\u001b[0;32m     11\u001b[0m \u001b[38;5;28;01mif\u001b[39;00m \u001b[38;5;241m1\u001b[39m\u001b[38;5;241m>\u001b[39m\u001b[38;5;241m0\u001b[39m:\n\u001b[1;32m---> 12\u001b[0m     \u001b[38;5;28;01mraise\u001b[39;00m \u001b[43mMyError\u001b[49m(\u001b[38;5;124m'\u001b[39m\u001b[38;5;124mbasic error\u001b[39m\u001b[38;5;124m'\u001b[39m)\n",
      "\u001b[1;31mNameError\u001b[0m: name 'MyError' is not defined"
     ]
    }
   ],
   "source": [
    "import numpy as np\n",
    "cycle_period_s = 0.2151984\n",
    "# cycle_period_ns = int(np.round(cycle_period_s/(50e-9))*50e-9)\n",
    "# print(cycle_period_ns)\n",
    "\n",
    "a = int(cycle_period_s / 50e-9) * 50\n",
    "b = int(np.round(cycle_period_s/(50e-9))*50)\n",
    "print(a)\n",
    "print(b)\n",
    "print(a-b)\n",
    "if 1>0:\n",
    "    raise MyError('basic error')"
   ]
  },
  {
   "cell_type": "code",
   "execution_count": 9,
   "metadata": {},
   "outputs": [],
   "source": [
    "#from rabi osc experiment\n",
    "#for rf_power = -25, pi pulse width = 1e-6\n",
    "experiment = qdlutils.experiments.podmr.PulsedODMR(\n",
    "    podmr_pulser, rfsynth, nidaq_config, \n",
    "    photon_counter_nidaq_terminal = 'PFI0',\n",
    "    clock_nidaq_terminal = 'PFI12',\n",
    "    trigger_nidaq_terminal = 'PFI13',\n",
    "    freq_low = 2820e6,\n",
    "    freq_high = 2920e6,\n",
    "    freq_step = 1e6,\n",
    "    rf_power = -40,\n",
    "    rfsynth_channel = 0)"
   ]
  },
  {
   "cell_type": "code",
   "execution_count": 10,
   "metadata": {},
   "outputs": [
    {
     "ename": "AttributeError",
     "evalue": "'PulsedODMR' object has no attribute 'N_clock_ticks_per_cycle'",
     "output_type": "error",
     "traceback": [
      "\u001b[1;31m---------------------------------------------------------------------------\u001b[0m",
      "\u001b[1;31mAttributeError\u001b[0m                            Traceback (most recent call last)",
      "Cell \u001b[1;32mIn[10], line 1\u001b[0m\n\u001b[1;32m----> 1\u001b[0m \u001b[43mexperiment\u001b[49m\u001b[38;5;241;43m.\u001b[39;49m\u001b[43mN_clock_ticks_per_cycle\u001b[49m\n",
      "\u001b[1;31mAttributeError\u001b[0m: 'PulsedODMR' object has no attribute 'N_clock_ticks_per_cycle'"
     ]
    }
   ],
   "source": [
    "experiment.N_clock_ticks_per_cycle"
   ]
  },
  {
   "cell_type": "code",
   "execution_count": 11,
   "metadata": {},
   "outputs": [
    {
     "name": "stdout",
     "output_type": "stream",
     "text": [
      "Starting program_pulser_state\n",
      "Finished program_pulser_state\n"
     ]
    },
    {
     "name": "stderr",
     "output_type": "stream",
     "text": [
      "INFO:qdlutils.experiments.podmr:RF frequency: 2.8200000000000003 GHz\n",
      "ERROR:qdlutils.experiments.podmr:<class 'nidaqmx.errors.DaqReadError'>: Some or all of the samples requested have not yet been acquired.\n",
      "\n",
      "To wait for the samples to become available use a longer read timeout or read later in your program. To make the samples available sooner, increase the sample rate. If your task uses a start trigger,  make sure that your start trigger is configured correctly. It is also possible that you configured the task for external timing, and no clock was supplied. If this is the case, supply an external clock.\n",
      "Property: DAQmx_Read_RelativeTo\n",
      "Requested Value: DAQmx_Val_CurrReadPos\n",
      "\n",
      "Property: DAQmx_Read_Offset\n",
      "Requested Value: 0\n",
      "\n",
      "Task Name: _unnamedTask<0>\n",
      "\n",
      "Status Code: -200284\n",
      "c:\\Users\\magPI\\miniconda3\\envs\\qdlutils\\lib\\site-packages\\nidaqmx\\_library_interpreter.py:6417: DaqWarning: \n",
      "Warning 200010 occurred.\n",
      "\n",
      "Finite acquisition or generation has been stopped before the requested number of samples were acquired or generated.\n",
      "  warnings.warn(DaqWarning(error_string, error_code))\n"
     ]
    },
    {
     "ename": "IndexError",
     "evalue": "too many indices for array: array is 1-dimensional, but 2 were indexed",
     "output_type": "error",
     "traceback": [
      "\u001b[1;31m---------------------------------------------------------------------------\u001b[0m",
      "\u001b[1;31mDaqReadError\u001b[0m                              Traceback (most recent call last)",
      "File \u001b[1;32m~\\Documents\\GitHub\\MagPI_Experiment_Code\\qdl-utils-magpi\\src\\qdlutils\\experiments\\podmr.py:206\u001b[0m, in \u001b[0;36mPulsedODMR.run\u001b[1;34m(self, N_cycles, post_process_function, random_order)\u001b[0m\n\u001b[0;32m    205\u001b[0m     logger\u001b[38;5;241m.\u001b[39merror(\u001b[38;5;124mf\u001b[39m\u001b[38;5;124m'\u001b[39m\u001b[38;5;132;01m{\u001b[39;00m\u001b[38;5;28mtype\u001b[39m(e)\u001b[38;5;132;01m}\u001b[39;00m\u001b[38;5;124m: \u001b[39m\u001b[38;5;132;01m{\u001b[39;00me\u001b[38;5;132;01m}\u001b[39;00m\u001b[38;5;124m'\u001b[39m)\n\u001b[1;32m--> 206\u001b[0m     \u001b[38;5;28;01mraise\u001b[39;00m e\n\u001b[0;32m    208\u001b[0m \u001b[38;5;28;01mfinally\u001b[39;00m:\n",
      "File \u001b[1;32m~\\Documents\\GitHub\\MagPI_Experiment_Code\\qdl-utils-magpi\\src\\qdlutils\\experiments\\podmr.py:191\u001b[0m, in \u001b[0;36mPulsedODMR.run\u001b[1;34m(self, N_cycles, post_process_function, random_order)\u001b[0m\n\u001b[0;32m    189\u001b[0m time\u001b[38;5;241m.\u001b[39msleep(\u001b[38;5;28mself\u001b[39m\u001b[38;5;241m.\u001b[39mdaq_time\u001b[38;5;241m*\u001b[39m\u001b[38;5;241m1.1\u001b[39m) \u001b[38;5;66;03m#pause for acquisition\u001b[39;00m\n\u001b[1;32m--> 191\u001b[0m read_samples \u001b[38;5;241m=\u001b[39m \u001b[38;5;28;43mself\u001b[39;49m\u001b[38;5;241;43m.\u001b[39;49m\u001b[43medge_counter_config\u001b[49m\u001b[38;5;241;43m.\u001b[39;49m\u001b[43mcounter_reader\u001b[49m\u001b[38;5;241;43m.\u001b[39;49m\u001b[43mread_many_sample_double\u001b[49m\u001b[43m(\u001b[49m\n\u001b[0;32m    192\u001b[0m \u001b[43m                        \u001b[49m\u001b[43mdata_buffer\u001b[49m\u001b[43m,\u001b[49m\n\u001b[0;32m    193\u001b[0m \u001b[43m                        \u001b[49m\u001b[43mnumber_of_samples_per_channel\u001b[49m\u001b[38;5;241;43m=\u001b[39;49m\u001b[38;5;28;43mself\u001b[39;49m\u001b[38;5;241;43m.\u001b[39;49m\u001b[43mN_clock_ticks_per_frequency\u001b[49m\u001b[43m,\u001b[49m\n\u001b[0;32m    194\u001b[0m \u001b[43m                        \u001b[49m\u001b[43mtimeout\u001b[49m\u001b[38;5;241;43m=\u001b[39;49m\u001b[38;5;241;43m5\u001b[39;49m\u001b[43m)\u001b[49m\n\u001b[0;32m    196\u001b[0m \u001b[38;5;66;03m#should we assert that we read all samples? read_samples == self.N_clock_ticks_per_frequency\u001b[39;00m\n",
      "File \u001b[1;32mc:\\Users\\magPI\\miniconda3\\envs\\qdlutils\\lib\\site-packages\\nidaqmx\\stream_readers.py:1165\u001b[0m, in \u001b[0;36mCounterReader.read_many_sample_double\u001b[1;34m(self, data, number_of_samples_per_channel, timeout)\u001b[0m\n\u001b[0;32m   1163\u001b[0m \u001b[38;5;28mself\u001b[39m\u001b[38;5;241m.\u001b[39m_verify_array(data, number_of_samples_per_channel, \u001b[38;5;28;01mFalse\u001b[39;00m, \u001b[38;5;28;01mTrue\u001b[39;00m)\n\u001b[1;32m-> 1165\u001b[0m _, samps_per_chan_read \u001b[38;5;241m=\u001b[39m \u001b[38;5;28;43mself\u001b[39;49m\u001b[38;5;241;43m.\u001b[39;49m\u001b[43m_interpreter\u001b[49m\u001b[38;5;241;43m.\u001b[39;49m\u001b[43mread_counter_f64_ex\u001b[49m\u001b[43m(\u001b[49m\n\u001b[0;32m   1166\u001b[0m \u001b[43m    \u001b[49m\u001b[38;5;28;43mself\u001b[39;49m\u001b[38;5;241;43m.\u001b[39;49m\u001b[43m_handle\u001b[49m\u001b[43m,\u001b[49m\u001b[43mnumber_of_samples_per_channel\u001b[49m\u001b[43m,\u001b[49m\u001b[43m \u001b[49m\u001b[43mtimeout\u001b[49m\u001b[43m,\u001b[49m\u001b[43m \u001b[49m\n\u001b[0;32m   1167\u001b[0m \u001b[43m    \u001b[49m\u001b[43mFillMode\u001b[49m\u001b[38;5;241;43m.\u001b[39;49m\u001b[43mGROUP_BY_CHANNEL\u001b[49m\u001b[38;5;241;43m.\u001b[39;49m\u001b[43mvalue\u001b[49m\u001b[43m,\u001b[49m\u001b[43m \u001b[49m\u001b[43mdata\u001b[49m\u001b[43m)\u001b[49m\n\u001b[0;32m   1169\u001b[0m \u001b[38;5;28;01mreturn\u001b[39;00m samps_per_chan_read\n",
      "File \u001b[1;32mc:\\Users\\magPI\\miniconda3\\envs\\qdlutils\\lib\\site-packages\\nidaqmx\\_library_interpreter.py:4308\u001b[0m, in \u001b[0;36mLibraryInterpreter.read_counter_f64_ex\u001b[1;34m(self, task, num_samps_per_chan, timeout, fill_mode, read_array)\u001b[0m\n\u001b[0;32m   4305\u001b[0m error_code \u001b[38;5;241m=\u001b[39m cfunc(\n\u001b[0;32m   4306\u001b[0m     task, num_samps_per_chan, timeout, fill_mode, read_array,\n\u001b[0;32m   4307\u001b[0m     read_array\u001b[38;5;241m.\u001b[39msize, ctypes\u001b[38;5;241m.\u001b[39mbyref(samps_per_chan_read), \u001b[38;5;28;01mNone\u001b[39;00m)\n\u001b[1;32m-> 4308\u001b[0m \u001b[38;5;28;43mself\u001b[39;49m\u001b[38;5;241;43m.\u001b[39;49m\u001b[43mcheck_for_error\u001b[49m\u001b[43m(\u001b[49m\u001b[43merror_code\u001b[49m\u001b[43m,\u001b[49m\u001b[43m \u001b[49m\u001b[43msamps_per_chan_read\u001b[49m\u001b[38;5;241;43m=\u001b[39;49m\u001b[43msamps_per_chan_read\u001b[49m\u001b[38;5;241;43m.\u001b[39;49m\u001b[43mvalue\u001b[49m\u001b[43m)\u001b[49m\n\u001b[0;32m   4309\u001b[0m \u001b[38;5;28;01mreturn\u001b[39;00m read_array, samps_per_chan_read\u001b[38;5;241m.\u001b[39mvalue\n",
      "File \u001b[1;32mc:\\Users\\magPI\\miniconda3\\envs\\qdlutils\\lib\\site-packages\\nidaqmx\\_library_interpreter.py:6408\u001b[0m, in \u001b[0;36mLibraryInterpreter.check_for_error\u001b[1;34m(self, error_code, samps_per_chan_written, samps_per_chan_read)\u001b[0m\n\u001b[0;32m   6407\u001b[0m \u001b[38;5;28;01mif\u001b[39;00m samps_per_chan_read \u001b[38;5;129;01mis\u001b[39;00m \u001b[38;5;129;01mnot\u001b[39;00m \u001b[38;5;28;01mNone\u001b[39;00m:\n\u001b[1;32m-> 6408\u001b[0m     \u001b[38;5;28;01mraise\u001b[39;00m DaqReadError(extended_error_info, error_code, samps_per_chan_read)\n\u001b[0;32m   6409\u001b[0m \u001b[38;5;28;01melif\u001b[39;00m samps_per_chan_written \u001b[38;5;129;01mis\u001b[39;00m \u001b[38;5;129;01mnot\u001b[39;00m \u001b[38;5;28;01mNone\u001b[39;00m:\n",
      "\u001b[1;31mDaqReadError\u001b[0m: Some or all of the samples requested have not yet been acquired.\n\nTo wait for the samples to become available use a longer read timeout or read later in your program. To make the samples available sooner, increase the sample rate. If your task uses a start trigger,  make sure that your start trigger is configured correctly. It is also possible that you configured the task for external timing, and no clock was supplied. If this is the case, supply an external clock.\nProperty: DAQmx_Read_RelativeTo\nRequested Value: DAQmx_Val_CurrReadPos\n\nProperty: DAQmx_Read_Offset\nRequested Value: 0\n\nTask Name: _unnamedTask<0>\n\nStatus Code: -200284",
      "\nDuring handling of the above exception, another exception occurred:\n",
      "\u001b[1;31mIndexError\u001b[0m                                Traceback (most recent call last)",
      "Cell \u001b[1;32mIn[11], line 1\u001b[0m\n\u001b[1;32m----> 1\u001b[0m scan_data \u001b[38;5;241m=\u001b[39m \u001b[43mexperiment\u001b[49m\u001b[38;5;241;43m.\u001b[39;49m\u001b[43mrun\u001b[49m\u001b[43m(\u001b[49m\u001b[43mN_cycles\u001b[49m\u001b[38;5;241;43m=\u001b[39;49m\u001b[38;5;241;43m100000\u001b[39;49m\u001b[43m)\u001b[49m\n\u001b[0;32m      3\u001b[0m \u001b[38;5;66;03m# scan_data is a list where each element of the list is the result of the CWODMR data acquired at a particular frequency.\u001b[39;00m\n\u001b[0;32m      4\u001b[0m \n\u001b[0;32m      5\u001b[0m \u001b[38;5;66;03m# Each element of scan_data contains a list of size two. The first element is the frequency, the second element is \u001b[39;00m\n\u001b[1;32m   (...)\u001b[0m\n\u001b[0;32m     14\u001b[0m \n\u001b[0;32m     15\u001b[0m \u001b[38;5;66;03m# ]\u001b[39;00m\n",
      "File \u001b[1;32m~\\Documents\\GitHub\\MagPI_Experiment_Code\\qdl-utils-magpi\\src\\qdlutils\\experiments\\podmr.py:219\u001b[0m, in \u001b[0;36mPulsedODMR.run\u001b[1;34m(self, N_cycles, post_process_function, random_order)\u001b[0m\n\u001b[0;32m    217\u001b[0m \u001b[38;5;66;03m#rfsynth.rf_off(self.rfsynth_channel)\u001b[39;00m\n\u001b[0;32m    218\u001b[0m data \u001b[38;5;241m=\u001b[39m np\u001b[38;5;241m.\u001b[39marray(data, dtype\u001b[38;5;241m=\u001b[39m\u001b[38;5;28mobject\u001b[39m)\n\u001b[1;32m--> 219\u001b[0m data \u001b[38;5;241m=\u001b[39m data[\u001b[43mdata\u001b[49m\u001b[43m[\u001b[49m\u001b[43m:\u001b[49m\u001b[43m,\u001b[49m\u001b[38;5;241;43m0\u001b[39;49m\u001b[43m]\u001b[49m\u001b[38;5;241m.\u001b[39margsort()] \u001b[38;5;66;03m#sorts the data by values in zeroth column... this is necessary if random_order = True\u001b[39;00m\n\u001b[0;32m    221\u001b[0m \u001b[38;5;28;01mreturn\u001b[39;00m data\n",
      "\u001b[1;31mIndexError\u001b[0m: too many indices for array: array is 1-dimensional, but 2 were indexed"
     ]
    }
   ],
   "source": [
    "scan_data = experiment.run(N_cycles=100000)\n",
    "\n",
    "# scan_data is a list where each element of the list is the result of the CWODMR data acquired at a particular frequency.\n",
    "\n",
    "# Each element of scan_data contains a list of size two. The first element is the frequency, the second element is \n",
    "# an array of data that is the output of the aggregation of the full raw data stream. The size of this array of data\n",
    "# will be equal to cwodmr.N_clock_ticks_per_cycle\n",
    "\n",
    "# scan_data - [\n",
    "#   [2700e6, [d_1, d_2, d_3, ... d_N_clock_ticks_per_cycle]],\n",
    "#   [2705e6, [d_1, d_2, d_3, ... d_N_clock_ticks_per_cycle]]\n",
    "#   ...\n",
    "#   [3000e6, [d_1, d_2, d_3, ... d_N_clock_ticks_per_cycle]]\n",
    "\n",
    "# ]"
   ]
  }
 ],
 "metadata": {
  "kernelspec": {
   "display_name": "qdlutils",
   "language": "python",
   "name": "python3"
  },
  "language_info": {
   "codemirror_mode": {
    "name": "ipython",
    "version": 3
   },
   "file_extension": ".py",
   "mimetype": "text/x-python",
   "name": "python",
   "nbconvert_exporter": "python",
   "pygments_lexer": "ipython3",
   "version": "3.9.20"
  }
 },
 "nbformat": 4,
 "nbformat_minor": 2
}
