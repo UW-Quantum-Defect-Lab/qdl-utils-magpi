{
 "cells": [
  {
   "cell_type": "code",
   "execution_count": 4,
   "metadata": {},
   "outputs": [],
   "source": [
    "import numpy as np\n",
    "import matplotlib.pyplot as plt\n",
    "import time\n",
    "\n",
    "import logging"
   ]
  },
  {
   "cell_type": "code",
   "execution_count": 4,
   "metadata": {},
   "outputs": [],
   "source": [
    "import qdlutils.experiments.podmr\n",
    "from qdlutils.hardware.pulsers.pulseblaster import PulseBlasterPulsedODMR\n",
    "from qdlutils.experiments.rabi import signal_to_background\n",
    "# import qdlutils.analysis.aggregation  # DOES NOT EXIST....?\n",
    "import qdlutils.hardware.nidaq\n",
    "import qt3rfsynthcontrol"
   ]
  },
  {
   "cell_type": "code",
   "execution_count": null,
   "metadata": {},
   "outputs": [
    {
     "name": "stdout",
     "output_type": "stream",
     "text": [
      "['c:\\\\Users\\\\magPI\\\\miniconda3\\\\envs\\\\qdlutils\\\\python39.zip', 'c:\\\\Users\\\\magPI\\\\miniconda3\\\\envs\\\\qdlutils\\\\DLLs', 'c:\\\\Users\\\\magPI\\\\miniconda3\\\\envs\\\\qdlutils\\\\lib', 'c:\\\\Users\\\\magPI\\\\miniconda3\\\\envs\\\\qdlutils', '', 'c:\\\\Users\\\\magPI\\\\miniconda3\\\\envs\\\\qdlutils\\\\lib\\\\site-packages', 'C:\\\\Users\\\\magPI\\\\Documents\\\\GitHub\\\\MagPI_Experiment_Code\\\\qdl-utils-magpi\\\\src', 'c:\\\\Users\\\\magPI\\\\miniconda3\\\\envs\\\\qdlutils\\\\lib\\\\site-packages\\\\win32', 'c:\\\\Users\\\\magPI\\\\miniconda3\\\\envs\\\\qdlutils\\\\lib\\\\site-packages\\\\win32\\\\lib', 'c:\\\\Users\\\\magPI\\\\miniconda3\\\\envs\\\\qdlutils\\\\lib\\\\site-packages\\\\Pythonwin']\n",
      "c:\\Users\\magPI\\Documents\\GitHub\\MagPI_Experiment_Code\\qdl-utils-magpi\\magPI_Exps\n"
     ]
    }
   ],
   "source": [
    "# import sys\n",
    "# # sys.path.append(\".\")\n",
    "# print(sys.path)\n",
    "# import os\n",
    "# print(os.getcwd())\n",
    "# import magPI.magPI_Python.Settings.magPI_config as magPI_config"
   ]
  },
  {
   "cell_type": "code",
   "execution_count": 6,
   "metadata": {},
   "outputs": [],
   "source": [
    "logging.basicConfig(level=logging.WARNING)"
   ]
  },
  {
   "cell_type": "code",
   "execution_count": 7,
   "metadata": {},
   "outputs": [],
   "source": [
    "qdlutils.experiments.podmr.logger.setLevel(logging.INFO)"
   ]
  },
  {
   "cell_type": "code",
   "execution_count": 5,
   "metadata": {},
   "outputs": [],
   "source": [
    "rfsynth = qt3rfsynthcontrol.QT3SynthHD('COM7')"
   ]
  },
  {
   "cell_type": "code",
   "execution_count": 8,
   "metadata": {},
   "outputs": [],
   "source": [
    "nidaq_config = qdlutils.hardware.nidaq.EdgeCounter('Dev1')"
   ]
  },
  {
   "cell_type": "code",
   "execution_count": null,
   "metadata": {},
   "outputs": [],
   "source": [
    "podmr_pulser = PulseBlasterPulsedODMR(pb_board_number=1, \n",
    "                                      aom_channel=0,\n",
    "                                      rf_channel=1,\n",
    "                                      clock_channel=5,\n",
    "                                      trigg\n",
    "                                      rf_pulse_duration=1e-6,\n",
    "                                      aom_width=5e-6)"
   ]
  },
  {
   "cell_type": "code",
   "execution_count": null,
   "metadata": {},
   "outputs": [],
   "source": [
    "#from rabi osc experiment\n",
    "#for rf_power = -25, pi pulse width = 1e-6\n",
    "experiment = qdlutils.experiments.podmr.PulsedODMR(podmr_pulser, rfsynth, nidaq_config, \n",
    "                                                   photon_counter_nidaq_terminal = 'PFI0',\n",
    "                                                   clock_nidaq_terminal = 'PFI12',\n",
    "                                                   rf_power = -50)"
   ]
  }
 ],
 "metadata": {
  "kernelspec": {
   "display_name": "qdlutils",
   "language": "python",
   "name": "python3"
  },
  "language_info": {
   "codemirror_mode": {
    "name": "ipython",
    "version": 3
   },
   "file_extension": ".py",
   "mimetype": "text/x-python",
   "name": "python",
   "nbconvert_exporter": "python",
   "pygments_lexer": "ipython3",
   "version": "3.9.20"
  }
 },
 "nbformat": 4,
 "nbformat_minor": 2
}
