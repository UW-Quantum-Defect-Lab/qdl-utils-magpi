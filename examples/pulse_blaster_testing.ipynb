{
 "cells": [
  {
   "cell_type": "markdown",
   "id": "1ea1e35d",
   "metadata": {},
   "source": [
    "# Pulse Blaster Tests\n",
    "\n",
    "The following code provides some simple tests to verify communication and programming of the Spin Core PulseBlaster.\n",
    "\n",
    "The code below sets up the PulseBlaster to output TTL pulses on specific channels which you can then observe with an oscilloscope. "
   ]
  },
  {
   "cell_type": "code",
   "execution_count": 15,
   "id": "dee21fbc",
   "metadata": {},
   "outputs": [],
   "source": [
    "from qdlutils.pulsers.pulseblaster import PulseBlasterCWODMR\n",
    "from qdlutils.pulsers.pulseblaster import PulseBlasterPulsedODMR\n",
    "from qdlutils.pulsers.pulseblaster import PulseBlasterRamHahnDD\n",
    "from qdlutils.pulsers.pulseblaster import PulseBlasterArb"
   ]
  },
  {
   "cell_type": "markdown",
   "id": "b9f4be40",
   "metadata": {},
   "source": [
    "# Create a PulseBlasterCWODMR object. \n",
    "\n",
    "Provide the output bit of the PulseBlaster for each of the channels.\n",
    "\n",
    "* aom_channel - this will issue a constant voltage signal > 3.3 V\n",
    "* rf_channel - this will issue a 50% duty cycle TTL pulse, which should be easily observed with an oscilloscope\n",
    "* clock_channel - this will issue a 50% duty cycle TTL pulse, which should be easily observed with an oscilloscope, \n",
    "                 although the frequency of this square wave will be much higher. \n",
    "* clock_period -  You can specify a clock period in order to improve visibility if you have a relatively modest oscilloscope\n",
    "* trigger_channel - this will issue a single square wave at the start of each RF cycle. \n",
    "* trigger_width - specify the width of the trigger signal "
   ]
  },
  {
   "cell_type": "code",
   "execution_count": 64,
   "id": "07d70bb1",
   "metadata": {},
   "outputs": [],
   "source": [
    "pulser = PulseBlasterCWODMR(pb_board_number=0, \n",
    "                            aom_channel=16,\n",
    "                            rf_channel=1, \n",
    "                            clock_channel=18, \n",
    "                            trigger_channel=19, \n",
    "                            clock_period=1000e-9,\n",
    "                            trigger_width=1e-6)"
   ]
  },
  {
   "cell_type": "code",
   "execution_count": 65,
   "id": "862c7597",
   "metadata": {},
   "outputs": [
    {
     "data": {
      "text/plain": [
       "40"
      ]
     },
     "execution_count": 65,
     "metadata": {},
     "output_type": "execute_result"
    }
   ],
   "source": [
    "pulser.program_pulser_state(rf_pulse_duration=20e-6) # specify that you want a 20 microsecond long RF pulse"
   ]
  },
  {
   "cell_type": "code",
   "execution_count": 66,
   "id": "20b83d52",
   "metadata": {},
   "outputs": [
    {
     "data": {
      "text/plain": [
       "{'rf_pulse_duration': 2e-05, 'clock_period': 1e-06}"
      ]
     },
     "execution_count": 66,
     "metadata": {},
     "output_type": "execute_result"
    }
   ],
   "source": [
    "pulser.experimental_conditions()"
   ]
  },
  {
   "cell_type": "markdown",
   "id": "a165f36a",
   "metadata": {},
   "source": [
    "# Start Pulse Blaster\n",
    "\n",
    "After starting the pulse blaster, you should be able to see signal on an oscilloscope"
   ]
  },
  {
   "cell_type": "code",
   "execution_count": 11,
   "id": "958de94a",
   "metadata": {},
   "outputs": [],
   "source": [
    "pulser.start() "
   ]
  },
  {
   "cell_type": "markdown",
   "id": "0f27008b-f75a-4564-9685-8336c4c52a84",
   "metadata": {},
   "source": [
    "In the photo below\n",
    "* yellow (ch 1) - trigger signal\n",
    "* blue (ch 2) - clock signal\n",
    "* pink (ch 3) - RF channel signal\n",
    "* green (ch 4) - TTL high signal for the AOM\n",
    "\n",
    "\n",
    "![cwodmr](images/cwodmr_scope.jpeg)"
   ]
  },
  {
   "cell_type": "markdown",
   "id": "a6eb723e",
   "metadata": {},
   "source": [
    "# Test Other PulseBlaster Sequences\n",
    "\n",
    "* PulseBlasterPulsedODMR - for pulsed ODMR sequences\n",
    "* PulseBlasterRamHahnDD - for Ramsey, Hahn Echo, and Dynamical Decoupling sequences\n",
    "* PulseBlasterArb - for arbitrary pulse sequences"
   ]
  },
  {
   "cell_type": "code",
   "execution_count": 6,
   "id": "241e023a",
   "metadata": {},
   "outputs": [],
   "source": [
    "pOdmr_pulser = PulseBlasterPulsedODMR(pb_board_number=0, \n",
    "                            aom_channel=16,\n",
    "                            rf_channel=17, \n",
    "                            clock_channel=18, \n",
    "                            trigger_channel=19, \n",
    "                            clock_period=1000e-9,\n",
    "                            trigger_width=1e-6)"
   ]
  },
  {
   "cell_type": "code",
   "execution_count": 12,
   "id": "8589b1f7",
   "metadata": {},
   "outputs": [
    {
     "data": {
      "text/plain": [
       "30"
      ]
     },
     "execution_count": 12,
     "metadata": {},
     "output_type": "execute_result"
    }
   ],
   "source": [
    "pOdmr_pulser.program_pulser_state(rf_pulse_duration=5e-6)"
   ]
  },
  {
   "cell_type": "code",
   "execution_count": 21,
   "id": "4e4e932b",
   "metadata": {},
   "outputs": [
    {
     "data": {
      "text/plain": [
       "{'rf_pulse_duration': 5e-06,\n",
       " 'aom_width': 5e-06,\n",
       " 'aom_response_time': 8e-07,\n",
       " 'post_rf_pad': 1e-07,\n",
       " 'pre_rf_pad': 1e-07,\n",
       " 'full_cycle_width': 3e-05,\n",
       " 'rf_pulse_justify': 'center',\n",
       " 'clock_period': 1e-06}"
      ]
     },
     "execution_count": 21,
     "metadata": {},
     "output_type": "execute_result"
    }
   ],
   "source": [
    "pOdmr_pulser.experimental_conditions()"
   ]
  },
  {
   "cell_type": "code",
   "execution_count": 13,
   "id": "9c684fb5",
   "metadata": {},
   "outputs": [],
   "source": [
    "pOdmr_pulser.start()"
   ]
  },
  {
   "cell_type": "markdown",
   "id": "3784087e-81b3-4cab-9827-6cc6c2e82751",
   "metadata": {},
   "source": [
    "In the photo below\n",
    "* yellow (ch 1) - trigger signal\n",
    "* blue (ch 2) - clock signal\n",
    "* pink (ch 3) - RF channel signal\n",
    "* green (ch 4) - AOM signal \n",
    "\n",
    "\n",
    "![pulsed_odmr](images/pulsed_odmr_scope.jpeg)"
   ]
  },
  {
   "cell_type": "code",
   "execution_count": 43,
   "id": "8682adab",
   "metadata": {},
   "outputs": [],
   "source": [
    "ramsey_pulser = PulseBlasterRamHahnDD(pb_board_number=0, \n",
    "                                      aom_channel=16,\n",
    "                                      rf_channel=17, \n",
    "                                      clock_channel=18, \n",
    "                                      trigger_channel=19, \n",
    "                                      clock_period=1000e-9,\n",
    "                                      trigger_width=1e-6)"
   ]
  },
  {
   "cell_type": "code",
   "execution_count": 44,
   "id": "ffe37314",
   "metadata": {},
   "outputs": [],
   "source": [
    "ramsey_pulser.rf_pi_pulse_width = 2e-6  # we make this much larger than normal in order to see with our scope\n",
    "ramsey_pulser.aom_width = 4e-6 \n"
   ]
  },
  {
   "cell_type": "code",
   "execution_count": 48,
   "id": "524a5148",
   "metadata": {},
   "outputs": [
    {
     "data": {
      "text/plain": [
       "54"
      ]
     },
     "execution_count": 48,
     "metadata": {},
     "output_type": "execute_result"
    }
   ],
   "source": [
    "ramsey_pulser.program_pulser_state(free_precession_time=20e-6, n_refocussing_pi_pulses=None)"
   ]
  },
  {
   "cell_type": "code",
   "execution_count": 49,
   "id": "8650748b",
   "metadata": {},
   "outputs": [
    {
     "data": {
      "text/plain": [
       "{'rf_pi_pulse_width': 2e-06,\n",
       " 'aom_width': 4e-06,\n",
       " 'aom_response_time': 8e-07,\n",
       " 'post_rf_pad': 1e-07,\n",
       " 'pre_rf_pad': 1e-07,\n",
       " 'full_cycle_width': 5.4e-05,\n",
       " 'free_precession_time': 2e-05,\n",
       " 'clock_period': 1e-06}"
      ]
     },
     "execution_count": 49,
     "metadata": {},
     "output_type": "execute_result"
    }
   ],
   "source": [
    "ramsey_pulser.experimental_conditions()"
   ]
  },
  {
   "cell_type": "code",
   "execution_count": 50,
   "id": "0b38e2b3",
   "metadata": {},
   "outputs": [],
   "source": [
    "ramsey_pulser.start()"
   ]
  },
  {
   "cell_type": "markdown",
   "id": "b57e8551-932e-4d7f-81e4-eb83c0dc66c3",
   "metadata": {},
   "source": [
    "In the photo below\n",
    "* yellow (ch 1) - trigger signal\n",
    "* blue (ch 2) - clock signal\n",
    "* pink (ch 3) - RF channel signal\n",
    "* green (ch 4) - AOM signal \n",
    "\n",
    "\n",
    "![ramsey](images/ramsey_scope.jpeg)"
   ]
  },
  {
   "cell_type": "code",
   "execution_count": 51,
   "id": "81470819",
   "metadata": {},
   "outputs": [],
   "source": [
    "hahnecho_pulser = PulseBlasterRamHahnDD(pb_board_number=0, \n",
    "                                       aom_channel=16,\n",
    "                                       rf_channel=17, \n",
    "                                       clock_channel=18, \n",
    "                                       trigger_channel=19, \n",
    "                                       clock_period=1000e-9,\n",
    "                                       trigger_width=1e-6)"
   ]
  },
  {
   "cell_type": "code",
   "execution_count": 52,
   "id": "a9cd8c0d",
   "metadata": {},
   "outputs": [],
   "source": [
    "hahnecho_pulser.rf_pi_pulse_width = 2e-6  \n",
    "hahnecho_pulser.aom_width = 4e-6 "
   ]
  },
  {
   "cell_type": "code",
   "execution_count": 53,
   "id": "2b6108d4",
   "metadata": {},
   "outputs": [
    {
     "data": {
      "text/plain": [
       "54"
      ]
     },
     "execution_count": 53,
     "metadata": {},
     "output_type": "execute_result"
    }
   ],
   "source": [
    "hahnecho_pulser.program_pulser_state(free_precession_time=20e-6, n_refocussing_pi_pulses=1)"
   ]
  },
  {
   "cell_type": "code",
   "execution_count": 59,
   "id": "c44452bf",
   "metadata": {},
   "outputs": [
    {
     "data": {
      "text/plain": [
       "{'rf_pi_pulse_width': 2e-06,\n",
       " 'aom_width': 4e-06,\n",
       " 'aom_response_time': 8e-07,\n",
       " 'post_rf_pad': 1e-07,\n",
       " 'pre_rf_pad': 1e-07,\n",
       " 'full_cycle_width': 5.4e-05,\n",
       " 'free_precession_time': 2e-05,\n",
       " 'clock_period': 1e-06}"
      ]
     },
     "execution_count": 59,
     "metadata": {},
     "output_type": "execute_result"
    }
   ],
   "source": [
    "hahnecho_pulser.experimental_conditions()"
   ]
  },
  {
   "cell_type": "code",
   "execution_count": 54,
   "id": "99596e96",
   "metadata": {},
   "outputs": [],
   "source": [
    "hahnecho_pulser.start()"
   ]
  },
  {
   "cell_type": "markdown",
   "id": "8281b7db-a17d-4714-b459-4c1d30734e22",
   "metadata": {},
   "source": [
    "In the photo below\n",
    "* yellow (ch 1) - trigger signal\n",
    "* blue (ch 2) - clock signal\n",
    "* pink (ch 3) - RF channel signal\n",
    "* green (ch 4) - AOM signal \n",
    "\n",
    "\n",
    "![hahn_echo](images/hahn_echo_scope.jpeg)"
   ]
  },
  {
   "cell_type": "code",
   "execution_count": 55,
   "id": "092dab7d",
   "metadata": {},
   "outputs": [],
   "source": [
    "dd_pulser = PulseBlasterRamHahnDD(pb_board_number=0, \n",
    "                                  aom_channel=16,\n",
    "                                  rf_channel=17, \n",
    "                                  clock_channel=18, \n",
    "                                  trigger_channel=19, \n",
    "                                  clock_period=1000e-9,\n",
    "                                  trigger_width=1e-6)\n",
    "\n",
    "# NB the dynamical decoupling pulse train only delivers X rotations because we've not \n",
    "# yet added an IQ modulator to shift the phase. "
   ]
  },
  {
   "cell_type": "code",
   "execution_count": 56,
   "id": "9ca9cc83",
   "metadata": {},
   "outputs": [],
   "source": [
    "dd_pulser.rf_pi_pulse_width = 2e-6  \n",
    "dd_pulser.aom_width = 4e-6 "
   ]
  },
  {
   "cell_type": "code",
   "execution_count": 57,
   "id": "d4f97dac",
   "metadata": {},
   "outputs": [
    {
     "data": {
      "text/plain": [
       "54"
      ]
     },
     "execution_count": 57,
     "metadata": {},
     "output_type": "execute_result"
    }
   ],
   "source": [
    "dd_pulser.program_pulser_state(free_precession_time=20e-6, n_refocussing_pi_pulses=3)"
   ]
  },
  {
   "cell_type": "code",
   "execution_count": 60,
   "id": "00b52826",
   "metadata": {},
   "outputs": [
    {
     "data": {
      "text/plain": [
       "{'rf_pi_pulse_width': 2e-06,\n",
       " 'aom_width': 4e-06,\n",
       " 'aom_response_time': 8e-07,\n",
       " 'post_rf_pad': 1e-07,\n",
       " 'pre_rf_pad': 1e-07,\n",
       " 'full_cycle_width': 5.4e-05,\n",
       " 'free_precession_time': 2e-05,\n",
       " 'clock_period': 1e-06}"
      ]
     },
     "execution_count": 60,
     "metadata": {},
     "output_type": "execute_result"
    }
   ],
   "source": [
    "dd_pulser.experimental_conditions()"
   ]
  },
  {
   "cell_type": "code",
   "execution_count": 58,
   "id": "e5a1f5fd",
   "metadata": {},
   "outputs": [],
   "source": [
    "dd_pulser.start()"
   ]
  },
  {
   "cell_type": "markdown",
   "id": "f03418da-e72f-4fb4-9f9f-f3985a8c530a",
   "metadata": {},
   "source": [
    "In the photo below\n",
    "* yellow (ch 1) - trigger signal\n",
    "* blue (ch 2) - clock signal\n",
    "* pink (ch 3) - RF channel signal\n",
    "* green (ch 4) - AOM signal \n",
    "\n",
    "\n",
    "![dynamical_decoupling](images/dynamical_decoupling_scope.jpeg)"
   ]
  }
 ],
 "metadata": {
  "kernelspec": {
   "display_name": "Python 3 (ipykernel)",
   "language": "python",
   "name": "python3"
  },
  "language_info": {
   "codemirror_mode": {
    "name": "ipython",
    "version": 3
   },
   "file_extension": ".py",
   "mimetype": "text/x-python",
   "name": "python",
   "nbconvert_exporter": "python",
   "pygments_lexer": "ipython3",
   "version": "3.9.16"
  }
 },
 "nbformat": 4,
 "nbformat_minor": 5
}
