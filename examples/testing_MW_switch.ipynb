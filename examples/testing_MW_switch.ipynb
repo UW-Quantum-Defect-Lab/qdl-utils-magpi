{
 "cells": [
  {
   "cell_type": "markdown",
   "id": "1ea1e35d",
   "metadata": {},
   "source": [
    "# MW Switch Testing\n",
    "\n",
    "The following code provides some simple tests to verify MW signal is being emitted by the switch used in the lab. \n",
    "\n",
    "First ensure that the PulseBlaster is working properly using the pulse_blaster_testing notebook.\n",
    "Also ensure that your RF power generator is working properly in order to be certain that your results here\n",
    "are only due to the functionality of the switch.\n",
    "\n",
    "We will test the MW switch by sending a TTL pulse to the switch and measure the output power by using a Mini-Circuits power detector (ZX47-40S+)"
   ]
  },
  {
   "cell_type": "code",
   "execution_count": 1,
   "id": "dee21fbc",
   "metadata": {},
   "outputs": [],
   "source": [
    "from qdlutils.pulsers.pulseblaster import PulseBlasterCWODMR\n",
    "import qt3rfsynthcontrol"
   ]
  },
  {
   "cell_type": "markdown",
   "id": "b9f4be40",
   "metadata": {},
   "source": [
    "# Create a PulseBlasterCWODMR object. \n",
    "\n",
    "Provide the output bit of the PulseBlaster for each of the channels.\n",
    "\n",
    "* aom_channel - this will issue a constant voltage signal > 3.3 V\n",
    "* rf_channel - this will issue a 50% duty cycle TTL pulse, which should be easily observed with an oscilloscope\n",
    "* clock_channel - this will issue a 50% duty cycle TTL pulse, which should be easily observed with an oscilloscope, \n",
    "                 although the frequency of this square wave will be much higher. \n",
    "* clock_period -  You can specify a clock period in order to improve visibility if you have a relatively modest oscilloscope\n",
    "* trigger_channel - this will issue a single square wave at the start of each RF cycle. \n",
    "* trigger_width - specify the width of the trigger signal "
   ]
  },
  {
   "cell_type": "code",
   "execution_count": 2,
   "id": "07d70bb1",
   "metadata": {},
   "outputs": [],
   "source": [
    "pulser = PulseBlasterCWODMR(pb_board_number=0, \n",
    "                            aom_channel=16,\n",
    "                            rf_channel=1, \n",
    "                            clock_channel=18, \n",
    "                            trigger_channel=19, \n",
    "                            clock_period=1000e-9,\n",
    "                            trigger_width=1e-6)"
   ]
  },
  {
   "cell_type": "code",
   "execution_count": 3,
   "id": "862c7597",
   "metadata": {},
   "outputs": [
    {
     "data": {
      "text/plain": [
       "40"
      ]
     },
     "execution_count": 3,
     "metadata": {},
     "output_type": "execute_result"
    }
   ],
   "source": [
    "pulser.program_pulser_state(rf_pulse_duration=20e-6) # specify that you want a 20 microsecond long RF pulse"
   ]
  },
  {
   "cell_type": "code",
   "execution_count": 4,
   "id": "20b83d52",
   "metadata": {},
   "outputs": [
    {
     "data": {
      "text/plain": [
       "{'rf_pulse_duration': 2e-05, 'clock_period': 1e-06}"
      ]
     },
     "execution_count": 4,
     "metadata": {},
     "output_type": "execute_result"
    }
   ],
   "source": [
    "pulser.experimental_conditions()"
   ]
  },
  {
   "cell_type": "markdown",
   "id": "4bf8fe1f",
   "metadata": {},
   "source": [
    "# Connect to RF / MW generator"
   ]
  },
  {
   "cell_type": "code",
   "execution_count": 5,
   "id": "a472a6f4",
   "metadata": {},
   "outputs": [
    {
     "data": {
      "text/plain": [
       "[['COM3',\n",
       "  'Intel(R) Active Management Technology - SOL (COM3)',\n",
       "  'PCI\\\\VEN_8086&DEV_43E3&SUBSYS_0A541028&REV_11\\\\3&11583659&1&B3'],\n",
       " ['COM5',\n",
       "  'USB Serial Device (COM5)',\n",
       "  'USB VID:PID=0483:A3E5 SER=206A36705430 LOCATION=1-9:x.0'],\n",
       " ['COM6',\n",
       "  'piezojena NV40/3CL USB (COM6)',\n",
       "  'USB VID:PID=0403:D161 SER=714151A'],\n",
       " ['COM7',\n",
       "  'USB Serial Device (COM7)',\n",
       "  'USB VID:PID=239A:8014 SER=3B0D07C25831555020312E341A3214FF LOCATION=1-5:x.0']]"
      ]
     },
     "execution_count": 5,
     "metadata": {},
     "output_type": "execute_result"
    }
   ],
   "source": [
    "qt3rfsynthcontrol.discover_devices()"
   ]
  },
  {
   "cell_type": "code",
   "execution_count": 7,
   "id": "5e8e9d05",
   "metadata": {},
   "outputs": [],
   "source": [
    "rfsynth = qt3rfsynthcontrol.QT3SynthHD('COM5')"
   ]
  },
  {
   "cell_type": "markdown",
   "id": "a165f36a",
   "metadata": {},
   "source": [
    "# Start Pulse Blaster & MW Signal\n",
    "\n",
    "After starting the pulse blaster, you should be able to see signal on an oscilloscope"
   ]
  },
  {
   "cell_type": "code",
   "execution_count": 15,
   "id": "9392e87c",
   "metadata": {},
   "outputs": [],
   "source": [
    "rfsynth.set_power(0,-5)\n",
    "rfsynth.set_frequency(0,2.8e9)\n",
    "rfsynth.rf_on(0)"
   ]
  },
  {
   "cell_type": "code",
   "execution_count": null,
   "id": "958de94a",
   "metadata": {},
   "outputs": [],
   "source": [
    "pulser.start() "
   ]
  },
  {
   "cell_type": "markdown",
   "id": "5a6b8b90-10c8-409a-9683-f351813ff6ba",
   "metadata": {},
   "source": [
    "In the photo below\n",
    "* yellow (ch 1) - trigger signal\n",
    "* pink (ch 3) - signal emitted by the power detector\n",
    "\n",
    "![mw_power](images/mw_power_scope.jpeg)\n",
    "\n",
    "Note that the Mini-Circuits switch used in the QT3 lab emits power between two channels - RF1 and RF2. The output of the switch will toggle between these outputs. That is, when the TTL signal is high, output should be on RF2 and when the TTL is low, output should be on RF1. "
   ]
  },
  {
   "cell_type": "code",
   "execution_count": null,
   "id": "ee01a8c6-803f-4bcf-b58e-731e4dde3239",
   "metadata": {},
   "outputs": [],
   "source": []
  }
 ],
 "metadata": {
  "kernelspec": {
   "display_name": "Python 3 (ipykernel)",
   "language": "python",
   "name": "python3"
  },
  "language_info": {
   "codemirror_mode": {
    "name": "ipython",
    "version": 3
   },
   "file_extension": ".py",
   "mimetype": "text/x-python",
   "name": "python",
   "nbconvert_exporter": "python",
   "pygments_lexer": "ipython3",
   "version": "3.9.16"
  }
 },
 "nbformat": 4,
 "nbformat_minor": 5
}
